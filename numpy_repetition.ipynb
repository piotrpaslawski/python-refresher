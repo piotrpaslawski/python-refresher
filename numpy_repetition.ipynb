{
 "cells": [
  {
   "cell_type": "markdown",
   "metadata": {},
   "source": [
    "NumPy - Numerical Python\n",
    "\n",
    "Created in 2005 by Travis Oliphan and used for working with arrays, linear algebra, matrices etc."
   ]
  },
  {
   "cell_type": "code",
   "execution_count": 1,
   "metadata": {},
   "outputs": [
    {
     "name": "stdout",
     "output_type": "stream",
     "text": [
      "100 - dimensions: 0, shape: (), size: 1\n",
      "[100 200 300] - dimensions: 1, shape: (3,), size: 3\n",
      "[[100 200 300]\n",
      " [400 500 600]] - dimensions: 2, shape: (2, 3), size: 6\n",
      "[[[ 100  200  300]\n",
      "  [ 400  500  600]]\n",
      "\n",
      " [[ 700  800  900]\n",
      "  [1000 1100 1200]]] - dimensions: 3, shape: (2, 2, 3), size: 12\n"
     ]
    }
   ],
   "source": [
    "# Simple creating multidimensional arrays\n",
    "\n",
    "import numpy as np\n",
    "\n",
    "arr_0D = np.array(100)\n",
    "arr_1D = np.array([100, 200, 300])\n",
    "arr_2D = np.array([[100, 200, 300], [400, 500, 600]])\n",
    "arr_3D = np.array(\n",
    "    [[[100, 200, 300], [400, 500, 600]], [[700, 800, 900], [1000, 1100, 1200]]]\n",
    ")\n",
    "\n",
    "print(\n",
    "    f\"{arr_0D} - dimensions: {arr_0D.ndim}, shape: {arr_0D.shape}, size: {arr_0D.size}\"\n",
    ")\n",
    "print(\n",
    "    f\"{arr_1D} - dimensions: {arr_1D.ndim}, shape: {arr_1D.shape}, size: {arr_1D.size}\"\n",
    ")\n",
    "print(\n",
    "    f\"{arr_2D} - dimensions: {arr_2D.ndim}, shape: {arr_2D.shape}, size: {arr_2D.size}\"\n",
    ")\n",
    "print(\n",
    "    f\"{arr_3D} - dimensions: {arr_3D.ndim}, shape: {arr_3D.shape}, size: {arr_3D.size}\"\n",
    ")"
   ]
  },
  {
   "cell_type": "code",
   "execution_count": 2,
   "metadata": {},
   "outputs": [
    {
     "name": "stdout",
     "output_type": "stream",
     "text": [
      "[ 1  2  3  4  5  6  7  8  9 10 11 12] - dimensions: 1\n",
      "[[ 1  2  3  4  5  6]\n",
      " [ 7  8  9 10 11 12]] - dimensions: 2\n",
      "[[[ 1  2]\n",
      "  [ 3  4]]\n",
      "\n",
      " [[ 5  6]\n",
      "  [ 7  8]]\n",
      "\n",
      " [[ 9 10]\n",
      "  [11 12]]] - dimensions: 3\n"
     ]
    }
   ],
   "source": [
    "# Reshaping arrays\n",
    "\n",
    "import numpy as np\n",
    "\n",
    "arr_1D = np.array([1, 2, 3, 4, 5, 6, 7, 8, 9, 10, 11, 12])\n",
    "arr_2D = arr_1D.reshape(2, 6)\n",
    "arr_3D = arr_1D.reshape(3, 2, 2)\n",
    "\n",
    "print(f\"{arr_1D} - dimensions: {arr_1D.ndim}\")\n",
    "print(f\"{arr_2D} - dimensions: {arr_2D.ndim}\")\n",
    "print(f\"{arr_3D} - dimensions: {arr_3D.ndim}\")"
   ]
  },
  {
   "cell_type": "code",
   "execution_count": 3,
   "metadata": {},
   "outputs": [
    {
     "name": "stdout",
     "output_type": "stream",
     "text": [
      "[1.1 0.2 1.3 0.4] - type: float64\n",
      "[1 0 1 0] - type: int64\n",
      "[ True False  True False] - type: bool\n"
     ]
    }
   ],
   "source": [
    "# Type conversion\n",
    "\n",
    "import numpy as np\n",
    "\n",
    "arr_float = np.array([1.1, 0.2, 1.3, 0.4])\n",
    "arr_int = arr_float.astype(int)\n",
    "arr_bool = arr_int.astype(bool)\n",
    "\n",
    "print(f\"{arr_float} - type: {arr_float.dtype}\")\n",
    "print(f\"{arr_int} - type: {arr_int.dtype}\")\n",
    "print(f\"{arr_bool} - type: {arr_bool.dtype}\")"
   ]
  },
  {
   "cell_type": "code",
   "execution_count": 4,
   "metadata": {},
   "outputs": [
    {
     "name": "stdout",
     "output_type": "stream",
     "text": [
      "arr=[1 2 3 4 5], arr_copy=[1 2 3 4 5], arr_view=[1 2 3 4 5]\n",
      "arr=[-1 -2 -3 -4 -5], arr_copy=[ 2  4  6  8 10], arr_view=[-1 -2 -3 -4 -5]\n",
      "Copy's base property returns None\n",
      "View's base property returns [-1 -2 -3 -4 -5]\n"
     ]
    }
   ],
   "source": [
    "# Array copy vs view\n",
    "\n",
    "import numpy as np\n",
    "\n",
    "arr = np.array([1, 2, 3, 4, 5])\n",
    "arr_copy = arr.copy()\n",
    "arr_view = arr.view()\n",
    "\n",
    "print(f\"arr={arr}, arr_copy={arr_copy}, arr_view={arr_view}\")\n",
    "\n",
    "arr_copy *= 2\n",
    "arr_view *= -1\n",
    "\n",
    "print(f\"arr={arr}, arr_copy={arr_copy}, arr_view={arr_view}\")\n",
    "\n",
    "print(f\"Copy's base property returns {arr_copy.base}\")\n",
    "print(f\"View's base property returns {arr_view.base}\")"
   ]
  },
  {
   "cell_type": "code",
   "execution_count": 5,
   "metadata": {},
   "outputs": [
    {
     "name": "stdout",
     "output_type": "stream",
     "text": [
      "[123 456 789 987 654 321]\n",
      "[[123 456 789]\n",
      " [987 654 321]]\n",
      "[array([123, 456, 789]), array([987, 654, 321])]\n",
      "[456 654]\n"
     ]
    }
   ],
   "source": [
    "# Joining and splitting arrays\n",
    "\n",
    "import numpy as np\n",
    "\n",
    "arr1 = np.array([123, 456, 789])\n",
    "arr2 = np.array([987, 654, 321])\n",
    "\n",
    "arr_1D = np.concatenate((arr1, arr2))\n",
    "arr_2D = np.stack((arr1, arr2))\n",
    "\n",
    "arr_splitted = np.array_split(arr_1D, 2)\n",
    "\n",
    "even_indexes = np.where(arr_2D % 2 == 0)\n",
    "\n",
    "print(arr_1D)\n",
    "print(arr_2D)\n",
    "print(arr_splitted)\n",
    "print(arr_2D[even_indexes])"
   ]
  },
  {
   "cell_type": "code",
   "execution_count": 6,
   "metadata": {},
   "outputs": [
    {
     "name": "stdout",
     "output_type": "stream",
     "text": [
      "Before: [1 3 5 7]\n",
      "After: [1 2 3 4 5 6 7]\n"
     ]
    }
   ],
   "source": [
    "# Searchning indexes and inserting elements to sorted array\n",
    "\n",
    "import numpy as np\n",
    "\n",
    "arr = np.array([7, 3, 1, 5])\n",
    "arr = np.sort(arr)\n",
    "new_elements = [2, 4, 6]\n",
    "\n",
    "print(f\"Before: {arr}\")\n",
    "\n",
    "new_elements_indexes = np.searchsorted(arr, new_elements)\n",
    "arr = np.insert(arr, new_elements_indexes, new_elements)\n",
    "\n",
    "print(f\"After: {arr}\")"
   ]
  },
  {
   "cell_type": "code",
   "execution_count": 7,
   "metadata": {},
   "outputs": [
    {
     "name": "stdout",
     "output_type": "stream",
     "text": [
      "[[ 9 18]\n",
      " [84 99]\n",
      " [25 79]]\n",
      "[[71 76 42 70 32]\n",
      " [28 38 56 45 63]]\n",
      "[[0.93526893 0.85832398 0.29599942 0.87536779]\n",
      " [0.14492155 0.81815116 0.47495511 0.03727657]\n",
      " [0.52414289 0.82935498 0.4483862  0.25592514]\n",
      " [0.94827922 0.65845465 0.02239353 0.93013873]]\n",
      "[[ 1143  1368  1386  1440  1422]\n",
      " [ 8736 10146  9072 10335  8925]\n",
      " [ 3987  4902  5474  5305  5777]]\n",
      "[[ 1143  8736  3987]\n",
      " [ 1368 10146  4902]\n",
      " [ 1386  9072  5474]\n",
      " [ 1440 10335  5305]\n",
      " [ 1422  8925  5777]]\n",
      "-0.01666228791584379\n",
      "[[-2.39262379 -4.05653968  5.83600323  0.80854574]\n",
      " [-4.32643469  2.98247883 -0.50748853  4.09178108]\n",
      " [ 7.76556194 -1.95693175 -0.46864165 -7.10091696]\n",
      " [ 5.31505452  2.0714414  -5.57928372 -2.47486174]]\n"
     ]
    }
   ],
   "source": [
    "# Calculating array dot product, transposition and determinant\n",
    "\n",
    "import numpy as np\n",
    "from numpy import random\n",
    "\n",
    "arr1 = random.randint(100, size=(3, 2))\n",
    "arr2 = random.randint(100, size=(2, 5))\n",
    "arr3 = random.rand(4, 4)\n",
    "\n",
    "arr_result = np.dot(arr1, arr2)\n",
    "arr_transposed = np.transpose(arr_result)\n",
    "determinant = np.linalg.det(arr3)\n",
    "arr_inverse = np.linalg.inv(arr3)\n",
    "\n",
    "print(arr1)\n",
    "print(arr2)\n",
    "print(arr3)\n",
    "print(arr_result)\n",
    "print(arr_transposed)\n",
    "print(determinant)\n",
    "print(arr_inverse)"
   ]
  },
  {
   "cell_type": "code",
   "execution_count": 8,
   "metadata": {},
   "outputs": [
    {
     "name": "stdout",
     "output_type": "stream",
     "text": [
      "[[0.5263548  0.4463109  0.24915799 0.34520194]\n",
      " [0.61882841 0.78969139 0.1618926  0.51590389]\n",
      " [0.10221135 0.263635   0.84230844 0.63587833]\n",
      " [0.0889056  0.22566709 0.8242714  0.91023596]]\n",
      "Max element: 0.9102359625252187\n",
      "Mean value: 0.4716534430311011\n",
      "Sum of rows: [1.56702564 2.08631628 1.84403312 2.04908005]\n",
      "Sum of columns: [1.33630015 1.72530438 2.07763043 2.40722012]\n"
     ]
    }
   ],
   "source": [
    "# Calculating max/mean value and sum of rows/columns\n",
    "\n",
    "import numpy as np\n",
    "\n",
    "arr = np.random.rand(4, 4)\n",
    "\n",
    "print(arr)\n",
    "print(f\"Max element: {np.max(arr)}\")\n",
    "print(f\"Mean value: {np.mean(arr)}\")\n",
    "print(f\"Sum of rows: {np.sum(arr, axis = 1)}\")\n",
    "print(f\"Sum of columns: {np.sum(arr, axis = 0)}\")"
   ]
  },
  {
   "cell_type": "code",
   "execution_count": 9,
   "metadata": {},
   "outputs": [
    {
     "data": {
      "image/png": "[encoded data removed]",
      "text/plain": [
       "<Figure size 640x480 with 1 Axes>"
      ]
     },
     "metadata": {},
     "output_type": "display_data"
    }
   ],
   "source": [
    "# Simple periodic sine function\n",
    "\n",
    "import numpy as np\n",
    "import matplotlib.pyplot as plt\n",
    "import seaborn as sns\n",
    "\n",
    "frequency = 10\n",
    "sample_rate = 100\n",
    "time = np.linspace(0, 1, 2 * sample_rate)\n",
    "signal_amplitude = np.sin(frequency * 2 * np.pi * time)\n",
    "\n",
    "sns.set_style(\"darkgrid\")\n",
    "plt.plot(time, signal_amplitude)\n",
    "plt.xlabel(\"Time (s)\")\n",
    "plt.ylabel(\"Signal amplitude\")\n",
    "plt.show()"
   ]
  },
  {
   "cell_type": "code",
   "execution_count": 10,
   "metadata": {},
   "outputs": [
    {
     "data": {
      "image/png": "[encoded data removed]",
      "text/plain": [
       "<Figure size 640x480 with 1 Axes>"
      ]
     },
     "metadata": {},
     "output_type": "display_data"
    }
   ],
   "source": [
    "# Gaussian function (normal distribution)\n",
    "\n",
    "import numpy as np\n",
    "import matplotlib.pyplot as plt\n",
    "import seaborn as sns\n",
    "\n",
    "f = lambda x: np.exp(-(x**2))\n",
    "x = np.linspace(-10, 10, 1000)\n",
    "y = [f(val) for val in x]\n",
    "\n",
    "sns.set_style(\"darkgrid\")\n",
    "plt.plot(x, y)\n",
    "plt.show()"
   ]
  },
  {
   "cell_type": "code",
   "execution_count": 11,
   "metadata": {},
   "outputs": [
    {
     "name": "stdout",
     "output_type": "stream",
     "text": [
      "Array: [73, 84, 96, 53, 16, 22, 45, 28, 62, 78, 71, 11, 3, 24, 15, 17, 11, 10, 52, 75]\n",
      "Variance (iteratively): 845.61\n",
      "Variance (predefined method): 845.6099999999999\n",
      "Variance (as the square of the standard deviation): 845.6099999999999\n"
     ]
    }
   ],
   "source": [
    "# Variance in various ways\n",
    "import numpy\n",
    "from numpy import random\n",
    "\n",
    "min = 0\n",
    "max = 100\n",
    "count = 20\n",
    "arr = [random.randint(min, max) for _ in range(count)]\n",
    "\n",
    "average = sum(arr) / count\n",
    "squares_of_differences = [(el - average) ** 2 for el in arr]\n",
    "variance = sum(squares_of_differences) / count\n",
    "\n",
    "print(f\"Array: {arr}\")\n",
    "print(f\"Variance (iteratively): {variance}\")\n",
    "\n",
    "variance = numpy.var(arr)\n",
    "print(f\"Variance (predefined method): {variance}\")\n",
    "\n",
    "standard_deviation = np.std(arr)\n",
    "variance = standard_deviation * standard_deviation\n",
    "print(f\"Variance (as the square of the standard deviation): {variance}\")"
   ]
  },
  {
   "cell_type": "code",
   "execution_count": 12,
   "metadata": {},
   "outputs": [
    {
     "name": "stdout",
     "output_type": "stream",
     "text": [
      "Ages of people: 5, 31, 43, 48, 50, 41, 7, 11, 15, 39, 80, 82, 32, 2, 8, 6, 25, 36, 27, 61, 31\n",
      "First quartile - Lower quartile - Quantile of order 1/4:\n",
      "25% of people are 11 or younger.\n",
      "First quartile - Median - Quantile of order 1/2:\n",
      "50% of people are 31 or younger.\n",
      "Third quartile - Upper quartile - Quantile of order 3/4:\n",
      "75% of people are 43 or younger.\n"
     ]
    }
   ],
   "source": [
    "# Quartiles\n",
    "\n",
    "import numpy\n",
    "\n",
    "ages = [5, 31, 43, 48, 50, 41, 7, 11, 15, 39, 80, 82, 32, 2, 8, 6, 25, 36, 27, 61, 31]\n",
    "\n",
    "first_quartile = int(numpy.percentile(ages, 25))\n",
    "second_quartile = int(numpy.percentile(ages, 50))\n",
    "third_quartile = int(numpy.percentile(ages, 75))\n",
    "\n",
    "print(f\"Ages of people: {', '.join(map(str, ages))}\")\n",
    "\n",
    "print(f\"First quartile - Lower quartile - Quantile of order 1/4:\")\n",
    "print(f\"25% of people are {first_quartile} or younger.\")\n",
    "\n",
    "print(f\"First quartile - Median - Quantile of order 1/2:\")\n",
    "print(f\"50% of people are {second_quartile} or younger.\")\n",
    "\n",
    "print(f\"Third quartile - Upper quartile - Quantile of order 3/4:\")\n",
    "print(f\"75% of people are {third_quartile} or younger.\")"
   ]
  },
  {
   "cell_type": "code",
   "execution_count": 13,
   "metadata": {},
   "outputs": [
    {
     "name": "stdout",
     "output_type": "stream",
     "text": [
      "Speed: 77, 78, 85, 86, 86, 86, 87, 87, 88, 94, 99, 103, 111\n",
      "Average speed: 89.76923076923077\n",
      "Median speed: 87.0\n",
      "Standard deviation: 9.258292301032677\n"
     ]
    }
   ],
   "source": [
    "# Other repetitions\n",
    "\n",
    "import numpy as np\n",
    "\n",
    "speed = [77, 78, 85, 86, 86, 86, 87, 87, 88, 94, 99, 103, 111]\n",
    "average_speed = np.mean(speed)\n",
    "median = np.median(speed)\n",
    "standard_deviation = np.std(speed)\n",
    "\n",
    "print(f\"Speed: {', '.join(map(str, speed))}\")\n",
    "print(f\"Average speed: {average_speed}\")\n",
    "print(f\"Median speed: {median}\")\n",
    "print(f\"Standard deviation: {standard_deviation}\")"
   ]
  }
 ],
 "metadata": {
  "kernelspec": {
   "display_name": "Python 3",
   "language": "python",
   "name": "python3"
  },
  "language_info": {
   "codemirror_mode": {
    "name": "ipython",
    "version": 3
   },
   "file_extension": ".py",
   "mimetype": "text/x-python",
   "name": "python",
   "nbconvert_exporter": "python",
   "pygments_lexer": "ipython3",
   "version": "3.13.0"
  },
  "orig_nbformat": 4
 },
 "nbformat": 4,
 "nbformat_minor": 2
}
