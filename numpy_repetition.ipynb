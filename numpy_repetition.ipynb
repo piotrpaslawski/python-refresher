{
 "cells": [
  {
   "cell_type": "markdown",
   "metadata": {},
   "source": [
    "NumPy - Numerical Python\n",
    "\n",
    "Created in 2005 by Travis Oliphan and used for working with arrays, linear algebra, matrices etc."
   ]
  },
  {
   "cell_type": "code",
   "execution_count": 1,
   "metadata": {},
   "outputs": [
    {
     "name": "stdout",
     "output_type": "stream",
     "text": [
      "100 - dimensions: 0, shape: (), size: 1\n",
      "[100 200 300] - dimensions: 1, shape: (3,), size: 3\n",
      "[[100 200 300]\n",
      " [400 500 600]] - dimensions: 2, shape: (2, 3), size: 6\n",
      "[[[ 100  200  300]\n",
      "  [ 400  500  600]]\n",
      "\n",
      " [[ 700  800  900]\n",
      "  [1000 1100 1200]]] - dimensions: 3, shape: (2, 2, 3), size: 12\n"
     ]
    }
   ],
   "source": [
    "# Simple creating multidimensional arrays\n",
    "\n",
    "import numpy as np\n",
    "\n",
    "arr_0D = np.array(100)\n",
    "arr_1D = np.array([100, 200, 300])\n",
    "arr_2D = np.array([[100, 200, 300], [400, 500, 600]])\n",
    "arr_3D = np.array([[[100, 200, 300], [400, 500, 600]], [[700, 800, 900], [1000, 1100, 1200]]])\n",
    "\n",
    "print(f\"{arr_0D} - dimensions: {arr_0D.ndim}, shape: {arr_0D.shape}, size: {arr_0D.size}\")\n",
    "print(f\"{arr_1D} - dimensions: {arr_1D.ndim}, shape: {arr_1D.shape}, size: {arr_1D.size}\")\n",
    "print(f\"{arr_2D} - dimensions: {arr_2D.ndim}, shape: {arr_2D.shape}, size: {arr_2D.size}\")\n",
    "print(f\"{arr_3D} - dimensions: {arr_3D.ndim}, shape: {arr_3D.shape}, size: {arr_3D.size}\")"
   ]
  },
  {
   "cell_type": "code",
   "execution_count": 2,
   "metadata": {},
   "outputs": [
    {
     "name": "stdout",
     "output_type": "stream",
     "text": [
      "[ 1  2  3  4  5  6  7  8  9 10 11 12] - dimensions: 1\n",
      "[[ 1  2  3  4  5  6]\n",
      " [ 7  8  9 10 11 12]] - dimensions: 2\n",
      "[[[ 1  2]\n",
      "  [ 3  4]]\n",
      "\n",
      " [[ 5  6]\n",
      "  [ 7  8]]\n",
      "\n",
      " [[ 9 10]\n",
      "  [11 12]]] - dimensions: 3\n"
     ]
    }
   ],
   "source": [
    "# Reshaping arrays\n",
    "\n",
    "import numpy as np\n",
    "\n",
    "arr_1D = np.array([1, 2, 3, 4, 5, 6, 7, 8, 9, 10, 11, 12])\n",
    "arr_2D = arr_1D.reshape(2, 6)\n",
    "arr_3D = arr_1D.reshape(3, 2, 2)\n",
    "\n",
    "print(f\"{arr_1D} - dimensions: {arr_1D.ndim}\")\n",
    "print(f\"{arr_2D} - dimensions: {arr_2D.ndim}\")\n",
    "print(f\"{arr_3D} - dimensions: {arr_3D.ndim}\")"
   ]
  },
  {
   "cell_type": "code",
   "execution_count": 3,
   "metadata": {},
   "outputs": [
    {
     "name": "stdout",
     "output_type": "stream",
     "text": [
      "[1.1 0.2 1.3 0.4] - type: float64\n",
      "[1 0 1 0] - type: int64\n",
      "[ True False  True False] - type: bool\n"
     ]
    }
   ],
   "source": [
    "# Type conversion\n",
    "\n",
    "import numpy as np\n",
    "\n",
    "arr_float = np.array([1.1, 0.2, 1.3, 0.4])\n",
    "arr_int = arr_float.astype(int)\n",
    "arr_bool = arr_int.astype(bool)\n",
    "\n",
    "print(f\"{arr_float} - type: {arr_float.dtype}\")\n",
    "print(f\"{arr_int} - type: {arr_int.dtype}\")\n",
    "print(f\"{arr_bool} - type: {arr_bool.dtype}\")"
   ]
  },
  {
   "cell_type": "code",
   "execution_count": 4,
   "metadata": {},
   "outputs": [
    {
     "name": "stdout",
     "output_type": "stream",
     "text": [
      "arr=[1 2 3 4 5], arr_copy=[1 2 3 4 5], arr_view=[1 2 3 4 5]\n",
      "arr=[-1 -2 -3 -4 -5], arr_copy=[ 2  4  6  8 10], arr_view=[-1 -2 -3 -4 -5]\n",
      "Copy's base property returns None\n",
      "View's base property returns [-1 -2 -3 -4 -5]\n"
     ]
    }
   ],
   "source": [
    "# Array copy vs view\n",
    "\n",
    "import numpy as np\n",
    "\n",
    "arr = np.array([1, 2, 3, 4, 5])\n",
    "arr_copy = arr.copy()\n",
    "arr_view = arr.view()\n",
    "\n",
    "print(f\"arr={arr}, arr_copy={arr_copy}, arr_view={arr_view}\")\n",
    "\n",
    "arr_copy *= 2\n",
    "arr_view *= -1\n",
    "\n",
    "print(f\"arr={arr}, arr_copy={arr_copy}, arr_view={arr_view}\")\n",
    "\n",
    "print(f\"Copy's base property returns {arr_copy.base}\")\n",
    "print(f\"View's base property returns {arr_view.base}\")\n"
   ]
  },
  {
   "cell_type": "code",
   "execution_count": 5,
   "metadata": {},
   "outputs": [
    {
     "name": "stdout",
     "output_type": "stream",
     "text": [
      "[123 456 789 987 654 321]\n",
      "[[123 456 789]\n",
      " [987 654 321]]\n",
      "[array([123, 456, 789]), array([987, 654, 321])]\n",
      "[456 654]\n"
     ]
    }
   ],
   "source": [
    "# Joining and splitting arrays\n",
    "\n",
    "import numpy as np\n",
    "\n",
    "arr1 = np.array([123, 456, 789])\n",
    "arr2 = np.array([987, 654, 321])\n",
    "\n",
    "arr_1D = np.concatenate((arr1, arr2))\n",
    "arr_2D = np.stack((arr1, arr2))\n",
    "\n",
    "arr_splitted = np.array_split(arr_1D, 2)\n",
    "\n",
    "even_indexes = np.where(arr_2D % 2 == 0)\n",
    "\n",
    "print(arr_1D)\n",
    "print(arr_2D)\n",
    "print(arr_splitted)\n",
    "print(arr_2D[even_indexes])"
   ]
  },
  {
   "cell_type": "code",
   "execution_count": 6,
   "metadata": {},
   "outputs": [
    {
     "name": "stdout",
     "output_type": "stream",
     "text": [
      "Before: [1 3 5 7]\n",
      "After: [1 2 3 4 5 6 7]\n"
     ]
    }
   ],
   "source": [
    "# Searchning indexes and inserting elements to sorted array\n",
    "\n",
    "import numpy as np\n",
    "\n",
    "arr = np.array([7, 3, 1, 5])\n",
    "arr = np.sort(arr)\n",
    "new_elements = [2, 4, 6]\n",
    "\n",
    "print(f\"Before: {arr}\")\n",
    "\n",
    "new_elements_indexes = np.searchsorted(arr, new_elements)\n",
    "arr = np.insert(arr, new_elements_indexes, new_elements)\n",
    "\n",
    "print(f\"After: {arr}\")"
   ]
  },
  {
   "cell_type": "code",
   "execution_count": 7,
   "metadata": {},
   "outputs": [
    {
     "name": "stdout",
     "output_type": "stream",
     "text": [
      "[[34 83]\n",
      " [93 77]\n",
      " [13 29]]\n",
      "[[49 52 43 34 51]\n",
      " [62 94 75 25 64]]\n",
      "[[0.50036288 0.00129392 0.78286292 0.74715525]\n",
      " [0.62348203 0.21457825 0.05321103 0.97528481]\n",
      " [0.14131595 0.33916527 0.22131537 0.04023614]\n",
      " [0.2517215  0.13178341 0.50031318 0.46611169]]\n",
      "[[ 6812  9570  7687  3231  7046]\n",
      " [ 9331 12074  9774  5087  9671]\n",
      " [ 2435  3402  2734  1167  2519]]\n",
      "[[ 6812  9331  2435]\n",
      " [ 9570 12074  3402]\n",
      " [ 7687  9774  2734]\n",
      " [ 3231  5087  1167]\n",
      " [ 7046  9671  2519]]\n",
      "0.027181052423415696\n",
      "[[  5.39846545   0.53385687   3.55732567 -10.07760046]\n",
      " [ -2.33330486   0.33508424   1.61878499   2.89931531]\n",
      " [  0.66945722  -0.97503077   0.24685241   0.94572149]\n",
      " [ -2.97430268   0.6635297   -2.64376099   5.75293483]]\n"
     ]
    }
   ],
   "source": [
    "# Calculating array dot product, transposition and determinant\n",
    "\n",
    "import numpy as np\n",
    "from numpy import random\n",
    "\n",
    "arr1 = random.randint(100, size = (3, 2))\n",
    "arr2 = random.randint(100, size = (2, 5))\n",
    "arr3 = random.rand(4, 4)\n",
    "\n",
    "arr_result = np.dot(arr1, arr2)\n",
    "arr_transposed = np.transpose(arr_result)\n",
    "determinant = np.linalg.det(arr3)\n",
    "arr_inverse = np.linalg.inv(arr3)\n",
    "\n",
    "print(arr1)\n",
    "print(arr2)\n",
    "print(arr3)\n",
    "print(arr_result)\n",
    "print(arr_transposed)\n",
    "print(determinant)\n",
    "print(arr_inverse)"
   ]
  },
  {
   "cell_type": "code",
   "execution_count": 8,
   "metadata": {},
   "outputs": [
    {
     "name": "stdout",
     "output_type": "stream",
     "text": [
      "[[0.83134085 0.32692115 0.67406595 0.35453716]\n",
      " [0.70118646 0.45695595 0.59165653 0.02849913]\n",
      " [0.14179594 0.4582152  0.69090271 0.93095525]\n",
      " [0.45032182 0.66296262 0.60880717 0.24803131]]\n",
      "Max element: 0.9309552546308302\n",
      "Mean value: 0.509822198390913\n",
      "Sum of rows: [2.1868651  1.77829807 2.2218691  1.97012291]\n",
      "Sum of columns: [2.12464505 1.90505492 2.56543235 1.56202285]\n"
     ]
    }
   ],
   "source": [
    "# Calculating max/mean value and sum of rows/columns\n",
    "\n",
    "import numpy as np\n",
    "\n",
    "arr = np.random.rand(4, 4)\n",
    "\n",
    "print(arr)\n",
    "print(f\"Max element: {np.max(arr)}\")\n",
    "print(f\"Mean value: {np.mean(arr)}\")\n",
    "print(f\"Sum of rows: {np.sum(arr, axis = 1)}\")\n",
    "print(f\"Sum of columns: {np.sum(arr, axis = 0)}\")"
   ]
  },
  {
   "cell_type": "code",
   "execution_count": 9,
   "metadata": {},
   "outputs": [
    {
     "data": {
      "image/png": "[encoded data removed]",
      "text/plain": [
       "<Figure size 640x480 with 1 Axes>"
      ]
     },
     "metadata": {},
     "output_type": "display_data"
    }
   ],
   "source": [
    "# Simple periodic sine function\n",
    "\n",
    "import numpy as np\n",
    "import matplotlib.pyplot as plt\n",
    "import seaborn as sns\n",
    "\n",
    "frequency = 10\n",
    "sample_rate = 100\n",
    "time = np.linspace(0, 1, 2 * sample_rate)\n",
    "signal_amplitude = np.sin(frequency * 2 * np.pi * time)\n",
    "\n",
    "sns.set_style(\"darkgrid\")\n",
    "plt.plot(time, signal_amplitude)\n",
    "plt.xlabel('Time (s)')\n",
    "plt.ylabel('Signal amplitude')\n",
    "plt.show()"
   ]
  },
  {
   "cell_type": "code",
   "execution_count": 10,
   "metadata": {},
   "outputs": [
    {
     "data": {
      "image/png": "[encoded data removed]",
      "text/plain": [
       "<Figure size 640x480 with 1 Axes>"
      ]
     },
     "metadata": {},
     "output_type": "display_data"
    }
   ],
   "source": [
    "# Gaussian function (normal distribution)\n",
    "\n",
    "import numpy as np\n",
    "import matplotlib.pyplot as plt\n",
    "import seaborn as sns\n",
    "\n",
    "f = lambda x: np.exp(-x ** 2)\n",
    "x = np.linspace(-10, 10, 1000)\n",
    "y = [f(val) for val in x]\n",
    "\n",
    "sns.set_style(\"darkgrid\")\n",
    "plt.plot(x, y)\n",
    "plt.show()"
   ]
  },
  {
   "cell_type": "code",
   "execution_count": 11,
   "metadata": {},
   "outputs": [
    {
     "name": "stdout",
     "output_type": "stream",
     "text": [
      "Array: [68, 60, 46, 74, 42, 89, 50, 20, 42, 27, 0, 31, 32, 95, 68, 18, 44, 17, 89, 35]\n",
      "Variance (iteratively): 669.1274999999999\n",
      "Variance (predefined method): 669.1274999999999\n",
      "Variance (as the square of the standard deviation): 669.1275\n"
     ]
    }
   ],
   "source": [
    "# Variance in various ways\n",
    "import numpy\n",
    "from numpy import random\n",
    "\n",
    "min = 0\n",
    "max = 100\n",
    "count = 20\n",
    "arr = [random.randint(min, max) for _ in range(count)]\n",
    "\n",
    "average = sum(arr) / count\n",
    "squares_of_differences = [(el - average) ** 2 for el in arr]\n",
    "variance = sum(squares_of_differences) / count\n",
    "\n",
    "print(f\"Array: {arr}\")\n",
    "print(f\"Variance (iteratively): {variance}\")\n",
    "\n",
    "variance = numpy.var(arr)\n",
    "print(f\"Variance (predefined method): {variance}\")\n",
    "\n",
    "standard_deviation = np.std(arr)\n",
    "variance = standard_deviation * standard_deviation\n",
    "print(f\"Variance (as the square of the standard deviation): {variance}\")"
   ]
  },
  {
   "cell_type": "code",
   "execution_count": 12,
   "metadata": {},
   "outputs": [
    {
     "name": "stdout",
     "output_type": "stream",
     "text": [
      "Ages of people: 5, 31, 43, 48, 50, 41, 7, 11, 15, 39, 80, 82, 32, 2, 8, 6, 25, 36, 27, 61, 31\n",
      "First quartile - Lower quartile - Quantile of order 1/4:\n",
      "25% of people are 11 or younger.\n",
      "First quartile - Median - Quantile of order 1/2:\n",
      "50% of people are 31 or younger.\n",
      "Third quartile - Upper quartile - Quantile of order 3/4:\n",
      "75% of people are 43 or younger.\n"
     ]
    }
   ],
   "source": [
    "# Quartiles\n",
    "\n",
    "import numpy\n",
    "\n",
    "ages = [5,31,43,48,50,41,7,11,15,39,80,82,32,2,8,6,25,36,27,61,31]\n",
    "\n",
    "first_quartile = int(numpy.percentile(ages, 25))\n",
    "second_quartile = int(numpy.percentile(ages, 50))\n",
    "third_quartile = int(numpy.percentile(ages, 75))\n",
    "\n",
    "print(f\"Ages of people: {', '.join(map(str, ages))}\")\n",
    "\n",
    "print(f\"First quartile - Lower quartile - Quantile of order 1/4:\")\n",
    "print(f\"25% of people are {first_quartile} or younger.\")\n",
    "\n",
    "print(f\"First quartile - Median - Quantile of order 1/2:\")\n",
    "print(f\"50% of people are {second_quartile} or younger.\")\n",
    "\n",
    "print(f\"Third quartile - Upper quartile - Quantile of order 3/4:\")\n",
    "print(f\"75% of people are {third_quartile} or younger.\")"
   ]
  },
  {
   "cell_type": "code",
   "execution_count": 13,
   "metadata": {},
   "outputs": [
    {
     "name": "stdout",
     "output_type": "stream",
     "text": [
      "Speed: 77, 78, 85, 86, 86, 86, 87, 87, 88, 94, 99, 103, 111\n",
      "Average speed: 89.76923076923077\n",
      "Median speed: 87.0\n",
      "Standard deviation: 9.258292301032677\n"
     ]
    }
   ],
   "source": [
    "# Other repetitions\n",
    "\n",
    "import numpy as np\n",
    "\n",
    "speed = [77, 78, 85, 86, 86, 86, 87, 87, 88, 94, 99, 103, 111]\n",
    "average_speed = np.mean(speed)\n",
    "median = np.median(speed)\n",
    "standard_deviation = np.std(speed)\n",
    "\n",
    "print(f\"Speed: {', '.join(map(str, speed))}\")\n",
    "print(f\"Average speed: {average_speed}\")\n",
    "print(f\"Median speed: {median}\")\n",
    "print(f\"Standard deviation: {standard_deviation}\")"
   ]
  }
 ],
 "metadata": {
  "kernelspec": {
   "display_name": "Python 3",
   "language": "python",
   "name": "python3"
  },
  "language_info": {
   "codemirror_mode": {
    "name": "ipython",
    "version": 3
   },
   "file_extension": ".py",
   "mimetype": "text/x-python",
   "name": "python",
   "nbconvert_exporter": "python",
   "pygments_lexer": "ipython3",
   "version": "3.12.2"
  },
  "orig_nbformat": 4
 },
 "nbformat": 4,
 "nbformat_minor": 2
}
