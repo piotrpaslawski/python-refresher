{
 "cells": [
  {
   "cell_type": "markdown",
   "metadata": {},
   "source": [
    "Python - invented in 1991 year by Guido van Rossum\n",
    "\n",
    "Name \"Python\" comes from \"Monty Python's Flying Circus\""
   ]
  },
  {
   "cell_type": "code",
   "execution_count": 1,
   "metadata": {},
   "outputs": [
    {
     "name": "stdout",
     "output_type": "stream",
     "text": [
      "The Zen of Python, by Tim Peters\n",
      "\n",
      "Beautiful is better than ugly.\n",
      "Explicit is better than implicit.\n",
      "Simple is better than complex.\n",
      "Complex is better than complicated.\n",
      "Flat is better than nested.\n",
      "Sparse is better than dense.\n",
      "Readability counts.\n",
      "Special cases aren't special enough to break the rules.\n",
      "Although practicality beats purity.\n",
      "Errors should never pass silently.\n",
      "Unless explicitly silenced.\n",
      "In the face of ambiguity, refuse the temptation to guess.\n",
      "There should be one-- and preferably only one --obvious way to do it.\n",
      "Although that way may not be obvious at first unless you're Dutch.\n",
      "Now is better than never.\n",
      "Although never is often better than *right* now.\n",
      "If the implementation is hard to explain, it's a bad idea.\n",
      "If the implementation is easy to explain, it may be a good idea.\n",
      "Namespaces are one honking great idea -- let's do more of those!\n"
     ]
    }
   ],
   "source": [
    "import this"
   ]
  },
  {
   "cell_type": "code",
   "execution_count": 2,
   "metadata": {},
   "outputs": [
    {
     "name": "stdout",
     "output_type": "stream",
     "text": [
      "256\t126947587021744\t<class 'int'>\n",
      "256\t126947587021744\t<class 'int'>\n",
      "256\t126947587021744\t<class 'int'>\n",
      "256\t126947587021744\t<class 'int'>\n"
     ]
    }
   ],
   "source": [
    "# Same number in different number systems\n",
    "\n",
    "for el in [256, 0x100, 0o400, 0b100000000]:\n",
    "    print(f\"{el}\\t{id(el)}\\t{type(el)}\")"
   ]
  },
  {
   "cell_type": "code",
   "execution_count": 3,
   "metadata": {},
   "outputs": [
    {
     "name": "stdout",
     "output_type": "stream",
     "text": [
      "256.0\t126947490991376\t<class 'float'>\n",
      "0.1\t126947490992784\t<class 'float'>\n",
      "0.1\t126947490992784\t<class 'float'>\n",
      "100.0\t126947491511344\t<class 'float'>\n"
     ]
    }
   ],
   "source": [
    "# Different way of initalizing floating numbers\n",
    "\n",
    "for el in [256.0, 0.10, 0.10, 1e2]:\n",
    "    print(f\"{el}\\t{id(el)}\\t{type(el)}\")"
   ]
  },
  {
   "cell_type": "code",
   "execution_count": 4,
   "metadata": {},
   "outputs": [
    {
     "name": "stdout",
     "output_type": "stream",
     "text": [
      "126947490993360\n",
      "126947587013392\n",
      "126947587021744\n",
      "126947490993072\n",
      "\n",
      "126947491250560\n",
      "126947491250560\n",
      "\n",
      "126947491251424\n",
      "126947491251424\n"
     ]
    }
   ],
   "source": [
    "from os import linesep as endl\n",
    "\n",
    "# Python store numbers from -5 to 256 as a static numbers\n",
    "\n",
    "for el in [id(-6), id(-5), id(256), id(257)]:\n",
    "    print(el)\n",
    "print()\n",
    "\n",
    "# Reference to the same object\n",
    "\n",
    "for el in [id(\"ala\"), id(\"ala\")]:\n",
    "    print(el)\n",
    "print()\n",
    "\n",
    "# ...but doesn't work when string includes space\n",
    "\n",
    "for el in [id(\"al a\"), id(\"al a\")]:\n",
    "    print(el)"
   ]
  },
  {
   "cell_type": "code",
   "execution_count": 5,
   "metadata": {},
   "outputs": [
    {
     "name": "stdout",
     "output_type": "stream",
     "text": [
      "126947580142560 - <class 'builtin_function_or_method'>\n",
      "126947580142560 - <class 'builtin_function_or_method'>\n",
      "\n",
      "Multiple lines\n",
      "text\n",
      "\n"
     ]
    }
   ],
   "source": [
    "# Method override\n",
    "\n",
    "print(id(print), type(print), sep=\" - \")\n",
    "my_print = print\n",
    "print(id(my_print), type(my_print), sep=\" - \")\n",
    "\n",
    "my_print(\n",
    "    \"\"\"\n",
    "Multiple lines\n",
    "text\n",
    "\"\"\"\n",
    ")"
   ]
  },
  {
   "cell_type": "code",
   "execution_count": 6,
   "metadata": {},
   "outputs": [
    {
     "name": "stdout",
     "output_type": "stream",
     "text": [
      "Prints the values to a stream, or to sys.stdout by default.\n",
      "\n",
      "  sep\n",
      "    string inserted between values, default a space.\n",
      "  end\n",
      "    string appended after the last value, default a newline.\n",
      "  file\n",
      "    a file-like object (stream); defaults to the current sys.stdout.\n",
      "  flush\n",
      "    whether to forcibly flush the stream.\n",
      "\n",
      "Example comment\n",
      "of my function\n",
      "\n"
     ]
    }
   ],
   "source": [
    "# How to print documentation of method\n",
    "\n",
    "print(print.__doc__)\n",
    "\n",
    "\n",
    "def my_function():\n",
    "    \"\"\"\n",
    "    Example comment\n",
    "    of my function\n",
    "    \"\"\"\n",
    "    pass\n",
    "\n",
    "\n",
    "print(my_function.__doc__)"
   ]
  },
  {
   "cell_type": "code",
   "execution_count": 7,
   "metadata": {},
   "outputs": [
    {
     "name": "stdout",
     "output_type": "stream",
     "text": [
      "['__add__', '__class__', '__contains__', '__delattr__', '__dir__', '__doc__', '__eq__', '__format__', '__ge__', '__getattribute__', '__getitem__', '__getnewargs__', '__getstate__', '__gt__', '__hash__', '__init__', '__init_subclass__', '__iter__', '__le__', '__len__', '__lt__', '__mod__', '__mul__', '__ne__', '__new__', '__reduce__', '__reduce_ex__', '__repr__', '__rmod__', '__rmul__', '__setattr__', '__sizeof__', '__str__', '__subclasshook__', 'capitalize', 'casefold', 'center', 'count', 'encode', 'endswith', 'expandtabs', 'find', 'format', 'format_map', 'index', 'isalnum', 'isalpha', 'isascii', 'isdecimal', 'isdigit', 'isidentifier', 'islower', 'isnumeric', 'isprintable', 'isspace', 'istitle', 'isupper', 'join', 'ljust', 'lower', 'lstrip', 'maketrans', 'partition', 'removeprefix', 'removesuffix', 'replace', 'rfind', 'rindex', 'rjust', 'rpartition', 'rsplit', 'rstrip', 'split', 'splitlines', 'startswith', 'strip', 'swapcase', 'title', 'translate', 'upper', 'zfill']\n"
     ]
    }
   ],
   "source": [
    "# How to print all implemented methods in class\n",
    "\n",
    "print(dir(str))"
   ]
  },
  {
   "cell_type": "code",
   "execution_count": 8,
   "metadata": {},
   "outputs": [
    {
     "name": "stdout",
     "output_type": "stream",
     "text": [
      "A : 65\n",
      "B : 66\n",
      "C : 67\n",
      "D : 68\n",
      "E : 69\n",
      "F : 70\n",
      "G : 71\n",
      "H : 72\n",
      "I : 73\n",
      "J : 74\n",
      "K : 75\n",
      "L : 76\n",
      "M : 77\n",
      "N : 78\n",
      "O : 79\n",
      "P : 80\n",
      "Q : 81\n",
      "R : 82\n",
      "S : 83\n",
      "T : 84\n",
      "U : 85\n",
      "V : 86\n",
      "W : 87\n",
      "X : 88\n",
      "Y : 89\n",
      "Z : 90\n"
     ]
    }
   ],
   "source": [
    "# Elements of a dictionary are tuples (faster but immutable)\n",
    "\n",
    "letters = {}\n",
    "for i in range(65, 91):\n",
    "    letters.update({chr(i): i})\n",
    "\n",
    "for key, value in letters.items():\n",
    "    print(key, value, sep=\" : \")"
   ]
  },
  {
   "cell_type": "code",
   "execution_count": 9,
   "metadata": {},
   "outputs": [
    {
     "name": "stdout",
     "output_type": "stream",
     "text": [
      "Adding <class 'tuple'>: (1, 2, 3, 4, 5)\n",
      "15\n"
     ]
    }
   ],
   "source": [
    "# Variable numbers of arguments\n",
    "\n",
    "\n",
    "def add_many(*numbers):\n",
    "    print(f\"Adding {type(numbers)}: {numbers}\")\n",
    "    sum = 0\n",
    "    for i in numbers:\n",
    "        sum += i\n",
    "    return sum\n",
    "\n",
    "\n",
    "print(add_many(1, 2, 3, 4, 5))"
   ]
  },
  {
   "cell_type": "code",
   "execution_count": 10,
   "metadata": {},
   "outputs": [
    {
     "name": "stdout",
     "output_type": "stream",
     "text": [
      "12\n",
      "101\n"
     ]
    }
   ],
   "source": [
    "# Global vs nonlocal variables\n",
    "\n",
    "x = 10\n",
    "\n",
    "\n",
    "def outer_function():\n",
    "    global x\n",
    "    x += 1\n",
    "    y = 100\n",
    "\n",
    "    def inner_function():\n",
    "        global x\n",
    "        x += 1\n",
    "        nonlocal y\n",
    "        y += 1\n",
    "\n",
    "    inner_function()\n",
    "    print(x)\n",
    "    print(y)\n",
    "\n",
    "\n",
    "outer_function()"
   ]
  },
  {
   "cell_type": "code",
   "execution_count": 11,
   "metadata": {},
   "outputs": [
    {
     "name": "stdout",
     "output_type": "stream",
     "text": [
      "bytearray(b'Hello, World!')\n",
      "70\n",
      "72\n",
      "0x7375441ffa70\n",
      "\n",
      "b'Hello, World!'\n",
      "46\n",
      "48\n",
      "0x7375441f1170\n"
     ]
    }
   ],
   "source": [
    "# Size, address and modyfing byte objects\n",
    "\n",
    "from sys import getsizeof\n",
    "from ctypes import addressof, c_int\n",
    "from pympler import asizeof\n",
    "\n",
    "text = bytearray(b\"hello\")\n",
    "text[0] = ord(\"H\")\n",
    "text.extend(bytearray(b\", World!\"))\n",
    "print(text)\n",
    "print(getsizeof(text))\n",
    "print(asizeof.asizeof(text))\n",
    "print(hex(id(text)))\n",
    "\n",
    "print()\n",
    "\n",
    "text2 = bytes(b\"Hello, World!\")\n",
    "print(text2)\n",
    "print(getsizeof(text2))\n",
    "print(asizeof.asizeof(text2))\n",
    "print(hex(id(text2)))"
   ]
  },
  {
   "cell_type": "code",
   "execution_count": 12,
   "metadata": {},
   "outputs": [
    {
     "name": "stdout",
     "output_type": "stream",
     "text": [
      "5\n",
      "0x737549d43c50\n",
      "0x7375441d6120\n"
     ]
    }
   ],
   "source": [
    "# Identity of object vs its address\n",
    "\n",
    "var = 5\n",
    "print(var)\n",
    "print(hex(id(var)))\n",
    "print(hex(addressof(c_int(var))))"
   ]
  },
  {
   "cell_type": "code",
   "execution_count": 13,
   "metadata": {},
   "outputs": [
    {
     "name": "stdout",
     "output_type": "stream",
     "text": [
      "Before: [7, 8, 4, 2, 5, 1, 0, 4, 2]; After square lambda: [49, 64, 16, 4, 25, 1, 0, 16, 4]\n"
     ]
    }
   ],
   "source": [
    "# Lambda and map function\n",
    "\n",
    "numbers = [7, 8, 4, 2, 5, 1, 0, 4, 2]\n",
    "doubled_numbers = list(map(lambda x: x**2, numbers))\n",
    "print(f\"Before: {numbers}; After square lambda: {doubled_numbers}\")"
   ]
  },
  {
   "cell_type": "code",
   "execution_count": 14,
   "metadata": {},
   "outputs": [
    {
     "name": "stdout",
     "output_type": "stream",
     "text": [
      "{'name': 'Piotr', 'surname': 'Pasławski', 'age': 24}\n",
      "<class 'dict'>\n",
      "{\"basic\": {\"name\": \"Piotr\", \"surname\": \"Pas\\u0142awski\"}, \"age\": 24, \"student\": false, \"favourite_languages\": [\"Python\", \"Java\"]}\n",
      "<class 'str'>\n"
     ]
    }
   ],
   "source": [
    "# Conversion between Python objects and JSON\n",
    "\n",
    "import json\n",
    "\n",
    "example_str = '{\"name\": \"Piotr\", \"surname\": \"Pasławski\", \"age\": 24}'\n",
    "example_dict = json.loads(example_str)\n",
    "\n",
    "print(example_dict)\n",
    "print(type(example_dict))\n",
    "\n",
    "example2_dict = {\n",
    "    \"basic\": {\n",
    "        \"name\": \"Piotr\",\n",
    "        \"surname\": \"Pasławski\",\n",
    "    },\n",
    "    \"age\": 24,\n",
    "    \"student\": False,\n",
    "    \"favourite_languages\": [\"Python\", \"Java\"],\n",
    "}\n",
    "example2_str = json.dumps(example2_dict)\n",
    "\n",
    "print(example2_str)\n",
    "print(type(example2_str))"
   ]
  },
  {
   "cell_type": "code",
   "execution_count": 15,
   "metadata": {},
   "outputs": [
    {
     "name": "stdout",
     "output_type": "stream",
     "text": [
      "Jan Kowalski\n",
      "Piotr Pasławski writes in Python, Java\n"
     ]
    }
   ],
   "source": [
    "# Simple inheritence\n",
    "\n",
    "\n",
    "class Person:\n",
    "    def __init__(self, name, surname):\n",
    "        self.name = name\n",
    "        self.surname = surname\n",
    "\n",
    "    def __str__(self):\n",
    "        return f\"{self.name} {self.surname}\"\n",
    "\n",
    "\n",
    "class Programmer(Person):\n",
    "    def __init__(self, name, surname, languages):\n",
    "        super().__init__(name, surname)\n",
    "        self.languages = languages\n",
    "\n",
    "    def __str__(self):\n",
    "        return f\"{super().__str__()} writes in {', '.join(self.languages)}\"\n",
    "\n",
    "\n",
    "person1 = Person(\"Jan\", \"Kowalski\")\n",
    "person2 = Programmer(\"Piotr\", \"Pasławski\", [\"Python\", \"Java\"])\n",
    "\n",
    "print(person1)\n",
    "print(person2)"
   ]
  },
  {
   "cell_type": "code",
   "execution_count": 16,
   "metadata": {},
   "outputs": [
    {
     "name": "stdout",
     "output_type": "stream",
     "text": [
      "City(name='Lublin', voivodeship='Lubelskie', population=380000, country='Poland', is_big_city=True)\n",
      "('Lublin', 'Lubelskie', 380000, 'Poland', True)\n",
      "{'name': 'Lublin', 'voivodeship': 'Lubelskie', 'population': 380000, 'country': 'Poland', 'is_big_city': True}\n",
      "\n",
      "City(name='Brno', voivodeship='Jihomoravský kraj', population=396000, country='Česká republika', is_big_city=True)\n",
      "('Brno', 'Jihomoravský kraj', 396000, 'Česká republika', True)\n",
      "{'name': 'Brno', 'voivodeship': 'Jihomoravský kraj', 'population': 396000, 'country': 'Česká republika', 'is_big_city': True}\n",
      "\n",
      "City(name='Tarnobrzeg', voivodeship='Podkarpackie', population=45000, country='Poland', is_big_city=False)\n",
      "('Tarnobrzeg', 'Podkarpackie', 45000, 'Poland', False)\n",
      "{'name': 'Tarnobrzeg', 'voivodeship': 'Podkarpackie', 'population': 45000, 'country': 'Poland', 'is_big_city': False}\n"
     ]
    }
   ],
   "source": [
    "# Dataclass decorator\n",
    "\n",
    "from dataclasses import dataclass, field, astuple, asdict\n",
    "\n",
    "\n",
    "@dataclass\n",
    "class City:\n",
    "    name: str\n",
    "    voivodeship: str\n",
    "    population: int\n",
    "    country: str = \"Poland\"\n",
    "    is_big_city: bool = field(init=False)\n",
    "\n",
    "    def __post_init__(self):\n",
    "        self.is_big_city = True if self.population > 100000 else False\n",
    "\n",
    "\n",
    "city1 = City(\"Lublin\", \"Lubelskie\", 380000)\n",
    "city2 = City(\"Brno\", \"Jihomoravský kraj\", 396000, \"Česká republika\")\n",
    "city3 = City(\"Tarnobrzeg\", \"Podkarpackie\", 45000)\n",
    "\n",
    "print(city1)\n",
    "print(astuple(city1))\n",
    "print(asdict(city1))\n",
    "\n",
    "print()\n",
    "\n",
    "print(city2)\n",
    "print(astuple(city2))\n",
    "print(asdict(city2))\n",
    "\n",
    "print()\n",
    "\n",
    "print(city3)\n",
    "print(astuple(city3))\n",
    "print(asdict(city3))"
   ]
  },
  {
   "cell_type": "code",
   "execution_count": 17,
   "metadata": {},
   "outputs": [
    {
     "name": "stdout",
     "output_type": "stream",
     "text": [
      "Processor information: x86_64\n",
      "Architecture information: ('64bit', 'ELF')\n",
      "Machine type: x86_64\n",
      "Network name: paslavsky-linux\n",
      "System information: Linux-6.8.0-48-generic-x86_64-with-glibc2.39\n",
      "Platform information: Linux\n",
      "Python compiler: GCC 13.2.0\n",
      "\n"
     ]
    }
   ],
   "source": [
    "# Basic informations about running machine\n",
    "\n",
    "import platform\n",
    "\n",
    "print(\n",
    "    f\"\"\"Processor information: {platform.processor()}\n",
    "Architecture information: {platform.architecture()}\n",
    "Machine type: {platform.machine()}\n",
    "Network name: {platform.node()}\n",
    "System information: {platform.platform()}\n",
    "Platform information: {platform.system()}\n",
    "Python compiler: {platform.python_compiler()}\n",
    "\"\"\"\n",
    ")"
   ]
  },
  {
   "cell_type": "code",
   "execution_count": 18,
   "metadata": {},
   "outputs": [
    {
     "name": "stdout",
     "output_type": "stream",
     "text": [
      "2 ^ 0 = 1\n",
      "2 ^ 1 = 2\n",
      "2 ^ 2 = 4\n",
      "2 ^ 3 = 8\n",
      "2 ^ 4 = 16\n",
      "2 ^ 5 = 32\n",
      "2 ^ 6 = 64\n",
      "2 ^ 7 = 128\n",
      "2 ^ 8 = 256\n",
      "2 ^ 9 = 512\n",
      "2 ^ 10 = 1024\n"
     ]
    },
    {
     "ename": "StopIteration",
     "evalue": "",
     "output_type": "error",
     "traceback": [
      "\u001b[0;31m---------------------------------------------------------------------------\u001b[0m",
      "\u001b[0;31mStopIteration\u001b[0m                             Traceback (most recent call last)",
      "Cell \u001b[0;32mIn[18], line 23\u001b[0m\n\u001b[1;32m     21\u001b[0m i \u001b[38;5;241m=\u001b[39m \u001b[38;5;241m0\u001b[39m\n\u001b[1;32m     22\u001b[0m \u001b[38;5;28;01mwhile\u001b[39;00m \u001b[38;5;28;01mTrue\u001b[39;00m:\n\u001b[0;32m---> 23\u001b[0m     \u001b[38;5;28mprint\u001b[39m(\u001b[38;5;124mf\u001b[39m\u001b[38;5;124m\"\u001b[39m\u001b[38;5;124m2 ^ \u001b[39m\u001b[38;5;132;01m{\u001b[39;00mi\u001b[38;5;132;01m}\u001b[39;00m\u001b[38;5;124m = \u001b[39m\u001b[38;5;132;01m{\u001b[39;00m\u001b[38;5;28;43mnext\u001b[39;49m\u001b[43m(\u001b[49m\u001b[43miter_obj\u001b[49m\u001b[43m)\u001b[49m\u001b[38;5;132;01m}\u001b[39;00m\u001b[38;5;124m\"\u001b[39m)\n\u001b[1;32m     24\u001b[0m     i \u001b[38;5;241m+\u001b[39m\u001b[38;5;241m=\u001b[39m \u001b[38;5;241m1\u001b[39m\n",
      "Cell \u001b[0;32mIn[18], line 15\u001b[0m, in \u001b[0;36mPowersOf2.__next__\u001b[0;34m(self)\u001b[0m\n\u001b[1;32m     13\u001b[0m     \u001b[38;5;28;01mreturn\u001b[39;00m current\n\u001b[1;32m     14\u001b[0m \u001b[38;5;28;01melse\u001b[39;00m:\n\u001b[0;32m---> 15\u001b[0m     \u001b[38;5;28;01mraise\u001b[39;00m \u001b[38;5;167;01mStopIteration\u001b[39;00m\n",
      "\u001b[0;31mStopIteration\u001b[0m: "
     ]
    }
   ],
   "source": [
    "# Iterator through class object\n",
    "\n",
    "\n",
    "class PowersOf2:\n",
    "    def __iter__(self):\n",
    "        self.result = 1\n",
    "        return self\n",
    "\n",
    "    def __next__(self):\n",
    "        current = self.result\n",
    "        if current <= 1024:\n",
    "            self.result *= 2\n",
    "            return current\n",
    "        else:\n",
    "            raise StopIteration\n",
    "\n",
    "\n",
    "result = PowersOf2()\n",
    "iter_obj = iter(result)\n",
    "\n",
    "i = 0\n",
    "while True:\n",
    "    print(f\"2 ^ {i} = {next(iter_obj)}\")\n",
    "    i += 1"
   ]
  }
 ],
 "metadata": {
  "kernelspec": {
   "display_name": "Python 3",
   "language": "python",
   "name": "python3"
  },
  "language_info": {
   "codemirror_mode": {
    "name": "ipython",
    "version": 3
   },
   "file_extension": ".py",
   "mimetype": "text/x-python",
   "name": "python",
   "nbconvert_exporter": "python",
   "pygments_lexer": "ipython3",
   "version": "3.13.0"
  },
  "orig_nbformat": 4
 },
 "nbformat": 4,
 "nbformat_minor": 2
}
